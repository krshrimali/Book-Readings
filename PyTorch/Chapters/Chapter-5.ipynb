{
 "cells": [
  {
   "cell_type": "markdown",
   "metadata": {},
   "source": [
    "## Deep Learning in Computer Vision\n",
    "\n",
    "Topics Covered:\n",
    "\n",
    "1. Building Image Classifier on MNIST Dataset\n",
    "2. Working of Conv in PyTorch\n",
    "3. Why Pooling?\n",
    "4. Why use View?\n",
    "5. Transfer Learning\n",
    "6. Visualizing Outputs from Intermediate Layers\n",
    "7. Visualizing Weights of Intermediate Layers"
   ]
  },
  {
   "cell_type": "code",
   "execution_count": 1,
   "metadata": {},
   "outputs": [],
   "source": [
    "# Necessary Imports\n",
    "import torch, torchvision\n",
    "import time\n",
    "import numpy as np\n",
    "import matplotlib.pyplot as plt\n",
    "from torch.autograd import Variable \n",
    "import torchvision.transforms as transforms\n",
    "import torch.nn as nn\n",
    "import torch.optim as optim\n",
    "import torch.nn.functional as F"
   ]
  },
  {
   "cell_type": "markdown",
   "metadata": {},
   "source": [
    "### Challenges of using Linear Layers/FCN Layers?\n",
    "\n",
    "* Loss of Spatial Information.\n",
    "    * Flattening an image into 1D array loses all the spatial information about the image.\n",
    "* High complexity (number of weights for all layers in FCN)"
   ]
  },
  {
   "cell_type": "markdown",
   "metadata": {},
   "source": [
    "### Building an Image Classifier on MNIST Dataset\n",
    "\n",
    "Steps:\n",
    "\n",
    "1. Getting the Data\n",
    "2. Pre-process (flattening, resizing -- if required, split the dataset - train_test_split)\n",
    "3. Build model (CNN)\n",
    "4. Train and Validate the model.\n",
    "5. Test on Unseen Data (Test Dataset)"
   ]
  },
  {
   "cell_type": "markdown",
   "metadata": {},
   "source": [
    "**Step-1: Getting the Data**\n",
    "\n",
    "```python\n",
    "help(torchvision.datasets)\n",
    "```\n",
    "Output:\n",
    "```\n",
    "Help on package torchvision.datasets in torchvision:\n",
    "\n",
    "NAME\n",
    "    torchvision.datasets\n",
    "\n",
    "PACKAGE CONTENTS\n",
    "    cifar\n",
    "    coco\n",
    "    fakedata\n",
    "    folder\n",
    "    lsun\n",
    "    mnist\n",
    "    omniglot\n",
    "    phototour\n",
    "    semeion\n",
    "    stl10\n",
    "    svhn\n",
    "    utils\n",
    "```\n",
    "\n",
    "It's clear that we have mnist dataset available in torchvision datasets utility class. Let's go ahead and import mnist dataset."
   ]
  },
  {
   "cell_type": "code",
   "execution_count": 5,
   "metadata": {},
   "outputs": [],
   "source": [
    "import torchvision.datasets.mnist as mnist"
   ]
  },
  {
   "cell_type": "code",
   "execution_count": 9,
   "metadata": {},
   "outputs": [],
   "source": [
    "# required transformations\n",
    "transformation = transforms.Compose([transforms.ToTensor(), transforms.Normalize((0.1307, ), \\\n",
    "                                                                                (0.3081, ))])"
   ]
  },
  {
   "cell_type": "code",
   "execution_count": 11,
   "metadata": {},
   "outputs": [
    {
     "name": "stdout",
     "output_type": "stream",
     "text": [
      "Downloading http://yann.lecun.com/exdb/mnist/train-images-idx3-ubyte.gz\n",
      "Downloading http://yann.lecun.com/exdb/mnist/train-labels-idx1-ubyte.gz\n",
      "Downloading http://yann.lecun.com/exdb/mnist/t10k-images-idx3-ubyte.gz\n",
      "Downloading http://yann.lecun.com/exdb/mnist/t10k-labels-idx1-ubyte.gz\n",
      "Processing...\n",
      "Done!\n"
     ]
    }
   ],
   "source": [
    "train_dataset = mnist.MNIST('data/', train=True, transform=transformation, download=True)\n",
    "test_dataset = mnist.MNIST('data/', train=False, transform=transformation, download=True)"
   ]
  },
  {
   "cell_type": "code",
   "execution_count": 14,
   "metadata": {},
   "outputs": [],
   "source": [
    "train_loader = torch.utils.data.DataLoader(train_dataset, batch_size=32, shuffle=True)\n",
    "test_loader = torch.utils.data.DataLoader(test_dataset, batch_size=32, shuffle=True)"
   ]
  },
  {
   "cell_type": "code",
   "execution_count": 36,
   "metadata": {},
   "outputs": [],
   "source": [
    "# utility function to convert a tensor into an image\n",
    "def show_image(tensor, cmap=None):\n",
    "    image = tensor.numpy()[0]\n",
    "    mean = 0.1307\n",
    "    std_dev = 0.3081\n",
    "    image = ((mean * image) + std_dev)\n",
    "    plt.imshow(image, cmap) # show gray-scaled version of the image\n",
    "    plt.show()"
   ]
  },
  {
   "cell_type": "code",
   "execution_count": 29,
   "metadata": {},
   "outputs": [
    {
     "data": {
      "text/plain": [
       "tensor([[[[-0.4242, -0.4242, -0.4242,  ..., -0.4242, -0.4242, -0.4242],\n",
       "          [-0.4242, -0.4242, -0.4242,  ..., -0.4242, -0.4242, -0.4242],\n",
       "          [-0.4242, -0.4242, -0.4242,  ..., -0.4242, -0.4242, -0.4242],\n",
       "          ...,\n",
       "          [-0.4242, -0.4242, -0.4242,  ..., -0.4242, -0.4242, -0.4242],\n",
       "          [-0.4242, -0.4242, -0.4242,  ..., -0.4242, -0.4242, -0.4242],\n",
       "          [-0.4242, -0.4242, -0.4242,  ..., -0.4242, -0.4242, -0.4242]]],\n",
       "\n",
       "\n",
       "        [[[-0.4242, -0.4242, -0.4242,  ..., -0.4242, -0.4242, -0.4242],\n",
       "          [-0.4242, -0.4242, -0.4242,  ..., -0.4242, -0.4242, -0.4242],\n",
       "          [-0.4242, -0.4242, -0.4242,  ..., -0.4242, -0.4242, -0.4242],\n",
       "          ...,\n",
       "          [-0.4242, -0.4242, -0.4242,  ..., -0.4242, -0.4242, -0.4242],\n",
       "          [-0.4242, -0.4242, -0.4242,  ..., -0.4242, -0.4242, -0.4242],\n",
       "          [-0.4242, -0.4242, -0.4242,  ..., -0.4242, -0.4242, -0.4242]]],\n",
       "\n",
       "\n",
       "        [[[-0.4242, -0.4242, -0.4242,  ..., -0.4242, -0.4242, -0.4242],\n",
       "          [-0.4242, -0.4242, -0.4242,  ..., -0.4242, -0.4242, -0.4242],\n",
       "          [-0.4242, -0.4242, -0.4242,  ..., -0.4242, -0.4242, -0.4242],\n",
       "          ...,\n",
       "          [-0.4242, -0.4242, -0.4242,  ..., -0.4242, -0.4242, -0.4242],\n",
       "          [-0.4242, -0.4242, -0.4242,  ..., -0.4242, -0.4242, -0.4242],\n",
       "          [-0.4242, -0.4242, -0.4242,  ..., -0.4242, -0.4242, -0.4242]]],\n",
       "\n",
       "\n",
       "        ...,\n",
       "\n",
       "\n",
       "        [[[-0.4242, -0.4242, -0.4242,  ..., -0.4242, -0.4242, -0.4242],\n",
       "          [-0.4242, -0.4242, -0.4242,  ..., -0.4242, -0.4242, -0.4242],\n",
       "          [-0.4242, -0.4242, -0.4242,  ..., -0.4242, -0.4242, -0.4242],\n",
       "          ...,\n",
       "          [-0.4242, -0.4242, -0.4242,  ..., -0.4242, -0.4242, -0.4242],\n",
       "          [-0.4242, -0.4242, -0.4242,  ..., -0.4242, -0.4242, -0.4242],\n",
       "          [-0.4242, -0.4242, -0.4242,  ..., -0.4242, -0.4242, -0.4242]]],\n",
       "\n",
       "\n",
       "        [[[-0.4242, -0.4242, -0.4242,  ..., -0.4242, -0.4242, -0.4242],\n",
       "          [-0.4242, -0.4242, -0.4242,  ..., -0.4242, -0.4242, -0.4242],\n",
       "          [-0.4242, -0.4242, -0.4242,  ..., -0.4242, -0.4242, -0.4242],\n",
       "          ...,\n",
       "          [-0.4242, -0.4242, -0.4242,  ..., -0.4242, -0.4242, -0.4242],\n",
       "          [-0.4242, -0.4242, -0.4242,  ..., -0.4242, -0.4242, -0.4242],\n",
       "          [-0.4242, -0.4242, -0.4242,  ..., -0.4242, -0.4242, -0.4242]]],\n",
       "\n",
       "\n",
       "        [[[-0.4242, -0.4242, -0.4242,  ..., -0.4242, -0.4242, -0.4242],\n",
       "          [-0.4242, -0.4242, -0.4242,  ..., -0.4242, -0.4242, -0.4242],\n",
       "          [-0.4242, -0.4242, -0.4242,  ..., -0.4242, -0.4242, -0.4242],\n",
       "          ...,\n",
       "          [-0.4242, -0.4242, -0.4242,  ..., -0.4242, -0.4242, -0.4242],\n",
       "          [-0.4242, -0.4242, -0.4242,  ..., -0.4242, -0.4242, -0.4242],\n",
       "          [-0.4242, -0.4242, -0.4242,  ..., -0.4242, -0.4242, -0.4242]]]])"
      ]
     },
     "execution_count": 29,
     "metadata": {},
     "output_type": "execute_result"
    }
   ],
   "source": [
    "next(iter(train_loader))[0] # returns batch of 32 images, randomly"
   ]
  },
  {
   "cell_type": "code",
   "execution_count": 39,
   "metadata": {},
   "outputs": [
    {
     "name": "stdout",
     "output_type": "stream",
     "text": [
      "Showing image in color mode\n"
     ]
    },
    {
     "data": {
      "image/png": "[encoded data removed]",
      "text/plain": [
       "<Figure size 432x288 with 1 Axes>"
      ]
     },
     "metadata": {},
     "output_type": "display_data"
    },
    {
     "name": "stdout",
     "output_type": "stream",
     "text": [
      "Showing image in grayscale mode\n"
     ]
    },
    {
     "data": {
      "image/png": "[encoded data removed]",
      "text/plain": [
       "<Figure size 432x288 with 1 Axes>"
      ]
     },
     "metadata": {},
     "output_type": "display_data"
    }
   ],
   "source": [
    "print(\"Showing image in color mode\")\n",
    "show_image(next(iter(train_loader))[0][0])\n",
    "print(\"Showing image in grayscale mode\")\n",
    "show_image(next(iter(train_loader))[0][0], cmap='gray')"
   ]
  },
  {
   "cell_type": "markdown",
   "metadata": {},
   "source": [
    "## Building Model\n",
    "\n",
    "Generally, a CNN is composed of following layers:\n",
    "\n",
    "1. Conv2d\n",
    "2. MaxPooling2d\n",
    "3. ReLU\n",
    "4. View\n",
    "5. Linear Layer (FC Layer)\n",
    "6. Dropout"
   ]
  },
  {
   "cell_type": "code",
   "execution_count": 42,
   "metadata": {},
   "outputs": [],
   "source": [
    "class Net(nn.Module):\n",
    "    def __init__(self):\n",
    "        super().__init__()\n",
    "        self.conv1 = nn.Conv2d(1, 10, kernel_size=5)\n",
    "        self.conv2 = nn.Conv2d(10, 20, kernel_size=5)\n",
    "        self.conv2d_dropout = nn.Dropout2d()\n",
    "        self.fc1 = nn.Linear(320, 50)\n",
    "        self.fc2 = nn.Linear(50, 10)\n",
    "    def forward(self, x):\n",
    "        x = F.relu(F.max_pool2d(self.conv1(x), 2))\n",
    "        x = F.max_pool2d(self.conv2d_dropout(self.conv2(x)), 2)\n",
    "        x = x.view(-1, 320) # why?\n",
    "        x = F.relu(self.fc1(x))\n",
    "        x = F.dropout(x, training=self.training)\n",
    "        x = self.fc2(x)\n",
    "        return F.log_softmax(x)"
   ]
  },
  {
   "cell_type": "markdown",
   "metadata": {},
   "source": [
    "## How does Convolution works in PyTorch?\n",
    "\n",
    "Take an example of a 1D array. Let's try to apply a conv filter on the array.\n",
    "\n",
    "```\n",
    "conv = nn.Conv1d(1, 1, 3, bias=False)\n",
    "```\n",
    "\n",
    "Let's look at the docs of `nn.Conv1d`:\n",
    "\n",
    "```docs\n",
    "class Conv1d(_ConvNd)\n",
    " |  Applies a 1D convolution over an input signal composed of several input\n",
    " |  planes.\n",
    " |  \n",
    " |  In the simplest case, the output value of the layer with input size\n",
    " |  (N, C_{in}, L) and output (N, C_{out}, L_{out}) can be\n",
    " |  precisely described as:\n",
    "```\n",
    "$$\n",
    "\\text{out}(N_i, C_{out_j}) = \\text{bias}(C_{out_j}) + \\sum_{k = 0}^{C_{in} - 1} \\text{weight}(C_{out_j}, k) \\star \\text{input}(N_i, k)\n",
    "$$\n",
    "\n",
    "```docs\n",
    " |  Attributes:\n",
    " |      weight (Tensor): the learnable weights of the module of shape\n",
    " |          (out_channels, in_channels, kernel_size)\n",
    " |      bias (Tensor):   the learnable bias of the module of shape\n",
    " |          (out_channels)\n",
    " |  \n",
    " |  Examples::\n",
    " |  \n",
    " |      >>> m = nn.Conv1d(16, 33, 3, stride=2)\n",
    " |      >>> input = torch.randn(20, 16, 50)\n",
    " |      >>> output = m(input)\n",
    "```"
   ]
  },
  {
   "cell_type": "code",
   "execution_count": 76,
   "metadata": {},
   "outputs": [
    {
     "name": "stdout",
     "output_type": "stream",
     "text": [
      "Net.weight:  tensor([ 0.0898, -0.0290, -0.0184], grad_fn=<SelectBackward>)\n",
      "Net bias:  tensor(-0.0234, grad_fn=<AliasBackward>)\n",
      "Shape of input tensor: torch.Size([20, 16, 50])\n",
      "Input tensor([ 0.4412,  1.1871,  1.2538,  0.9038, -0.4481,  1.3991, -0.9111,  0.2678,\n",
      "         1.1055,  1.9549, -1.1615, -1.0567,  0.5989,  0.1253,  0.7138,  1.2872,\n",
      "         1.2061, -0.4276, -1.0316, -2.1270,  0.6886,  0.5826, -1.3476,  0.6016,\n",
      "        -0.3757, -1.1891,  0.6825, -0.0293, -1.0270,  0.8466,  1.6183, -1.1577,\n",
      "        -1.6786,  1.4142, -0.6939, -0.8775, -1.0439,  0.1629,  1.2870, -1.2488,\n",
      "        -0.8653,  0.8719,  0.2489, -2.0293, -2.2702,  0.8735,  0.9727,  0.5769,\n",
      "        -0.4099, -0.9260])\n",
      "output tensor([-0.4045,  0.4693, -0.6951, -0.4687, -0.0146, -0.4754,  0.5161, -0.1440,\n",
      "        -0.2339, -0.2184,  0.3562, -0.5512, -0.7846, -0.8485, -0.1358,  0.3537,\n",
      "        -0.2544,  0.1960, -0.3285,  0.1912, -0.1416,  0.0757,  0.1543,  1.5208],\n",
      "       grad_fn=<SelectBackward>)\n"
     ]
    },
    {
     "name": "stderr",
     "output_type": "stream",
     "text": [
      "/home/kushashwa/.local/lib/python3.6/site-packages/ipykernel_launcher.py:3: UserWarning: invalid index of a 0-dim tensor. This will be an error in PyTorch 0.5. Use tensor.item() to convert a 0-dim tensor to a Python number\n",
      "  This is separate from the ipykernel package so we can avoid doing imports until\n"
     ]
    }
   ],
   "source": [
    "net = nn.Conv1d(16, 33, 3, stride=2)\n",
    "print(\"Net.weight: \", net.weight[0][0])\n",
    "print(\"Net bias: \", net.bias[0][0])\n",
    "input_ = torch.randn(20, 16, 50)\n",
    "print(\"Shape of input tensor: {}\".format(input_.shape))\n",
    "output = net(input_)\n",
    "print(\"Input\", input_[0][0])\n",
    "print(\"output\", output[0][0])"
   ]
  },
  {
   "cell_type": "code",
   "execution_count": 64,
   "metadata": {},
   "outputs": [
    {
     "data": {
      "text/plain": [
       "tensor([-0.0673,  0.1119, -0.0590], grad_fn=<SelectBackward>)"
      ]
     },
     "execution_count": 64,
     "metadata": {},
     "output_type": "execute_result"
    }
   ],
   "source": [
    "net.weight[0][0]"
   ]
  },
  {
   "cell_type": "code",
   "execution_count": 79,
   "metadata": {},
   "outputs": [
    {
     "data": {
      "text/plain": [
       "tensor([ 0.0898, -0.0290, -0.0184], grad_fn=<SelectBackward>)"
      ]
     },
     "execution_count": 79,
     "metadata": {},
     "output_type": "execute_result"
    }
   ],
   "source": [
    "net.weight[0][0]"
   ]
  },
  {
   "cell_type": "code",
   "execution_count": 91,
   "metadata": {},
   "outputs": [
    {
     "data": {
      "text/plain": [
       "tensor(-0.0234, grad_fn=<SelectBackward>)"
      ]
     },
     "execution_count": 91,
     "metadata": {},
     "output_type": "execute_result"
    }
   ],
   "source": [
    "net.bias[0]"
   ]
  },
  {
   "cell_type": "code",
   "execution_count": 88,
   "metadata": {},
   "outputs": [
    {
     "name": "stdout",
     "output_type": "stream",
     "text": [
      "tensor([ 0.0396, -0.0344, -0.0231], grad_fn=<ThMulBackward>)\n",
      "input_, net.weight, net.bias: tensor([0.4412, 1.1871, 1.2538])/tensor([ 0.0898, -0.0290, -0.0184], grad_fn=<SelectBackward>)/-0.023443467915058136\n"
     ]
    },
    {
     "name": "stderr",
     "output_type": "stream",
     "text": [
      "/home/kushashwa/.local/lib/python3.6/site-packages/ipykernel_launcher.py:2: UserWarning: invalid index of a 0-dim tensor. This will be an error in PyTorch 0.5. Use tensor.item() to convert a 0-dim tensor to a Python number\n",
      "  \n"
     ]
    }
   ],
   "source": [
    "print(input_[0][0][:3] * net.weight[0][0])\n",
    "print(\"input_, net.weight, net.bias: {}/{}/{}\".format(input_[0][0][:3], net.weight[0][0], net.bias[0][0]))"
   ]
  },
  {
   "cell_type": "code",
   "execution_count": 104,
   "metadata": {},
   "outputs": [
    {
     "data": {
      "text/plain": [
       "-0.041310795"
      ]
     },
     "execution_count": 104,
     "metadata": {},
     "output_type": "execute_result"
    }
   ],
   "source": [
    "np.dot(input_[0][0][:3].detach().numpy(), net.weight[0][0].detach().numpy()) + net.bias[0].detach().numpy()"
   ]
  },
  {
   "cell_type": "code",
   "execution_count": 98,
   "metadata": {},
   "outputs": [
    {
     "data": {
      "text/plain": [
       "torch.nn.parameter.Parameter"
      ]
     },
     "execution_count": 98,
     "metadata": {},
     "output_type": "execute_result"
    }
   ],
   "source": [
    "type(net.weight)"
   ]
  },
  {
   "cell_type": "markdown",
   "metadata": {},
   "source": [
    "## Why Pooling?\n",
    "\n",
    "Used just after a convolution layer, to reduce the data size to process. Also helps in reducing the size of feature maps. Also, forces algorithm to not focus on small changes in position. **(how?)**\n",
    "\n"
   ]
  },
  {
   "cell_type": "markdown",
   "metadata": {},
   "source": [
    "## Why View? \n",
    "\n",
    "Generally, we use `torch.Tensor.view()` (https://pytorch.org/docs/stable/tensors.html#torch.Tensor.view) function at the end of a network, because for FC (Fully Connected) or Linear layers, we need to flatten the data to 1D.\n",
    "\n",
    "While flattening, it's important to make sure that two different images don't mix-up. That's why we input the first argument to `torch.Tensor.view()` as `-1`.\n",
    "\n",
    "Let's look at the docs of this function."
   ]
  },
  {
   "cell_type": "code",
   "execution_count": 166,
   "metadata": {},
   "outputs": [
    {
     "name": "stdout",
     "output_type": "stream",
     "text": [
      "Help on method_descriptor:\n",
      "\n",
      "view(...)\n",
      "    view(*args) -> Tensor\n",
      "    \n",
      "    Returns a new tensor with the same data as the :attr:`self` tensor but of a\n",
      "    different size.\n",
      "    \n",
      "    The returned tensor shares the same data and must have the same number\n",
      "    of elements, but may have a different size. For a tensor to be viewed, the new\n",
      "    view size must be compatible with its original size and stride, i.e., each new\n",
      "    view dimension must either be a subspace of an original dimension, or only span\n",
      "    across original dimensions :math:`d, d+1, \\dots, d+k` that satisfy the following\n",
      "    contiguity-like condition that :math:`\\forall i = 0, \\dots, k-1`,\n",
      "    \n",
      "    .. math::\n",
      "    \n",
      "      stride[i] = stride[i+1] \\times size[i+1]\n",
      "    \n",
      "    Otherwise, :func:`contiguous` needs to be called before the tensor can be\n",
      "    viewed.\n",
      "    \n",
      "    Args:\n",
      "        args (torch.Size or int...): the desired size\n",
      "    \n",
      "    Example::\n",
      "    \n",
      "        >>> x = torch.randn(4, 4)\n",
      "        >>> x.size()\n",
      "        torch.Size([4, 4])\n",
      "        >>> y = x.view(16)\n",
      "        >>> y.size()\n",
      "        torch.Size([16])\n",
      "        >>> z = x.view(-1, 8)  # the size -1 is inferred from other dimensions\n",
      "        >>> z.size()\n",
      "        torch.Size([2, 8])\n",
      "\n",
      "None\n"
     ]
    }
   ],
   "source": [
    "print(help(torch.Tensor.view))"
   ]
  },
  {
   "cell_type": "code",
   "execution_count": 164,
   "metadata": {},
   "outputs": [],
   "source": [
    "torch.Tensor.view?"
   ]
  },
  {
   "cell_type": "code",
   "execution_count": 158,
   "metadata": {},
   "outputs": [],
   "source": [
    "x = np.array([[[[8], [9]], [[2], [0.3]]], [[[8], [9]], [[2], [0.3]]]])\n",
    "x = x.reshape((2, 1, 2, 2)) # reshape to (2, 1, 2, 2) - like a batch of 2 images of size (2x2) with 1 channel"
   ]
  },
  {
   "cell_type": "code",
   "execution_count": 159,
   "metadata": {},
   "outputs": [
    {
     "data": {
      "text/plain": [
       "array([[[[8. , 9. ],\n",
       "         [2. , 0.3]]],\n",
       "\n",
       "\n",
       "       [[[8. , 9. ],\n",
       "         [2. , 0.3]]]])"
      ]
     },
     "execution_count": 159,
     "metadata": {},
     "output_type": "execute_result"
    }
   ],
   "source": [
    "x.view() # view the array x"
   ]
  },
  {
   "cell_type": "code",
   "execution_count": 160,
   "metadata": {},
   "outputs": [],
   "source": [
    "x_tensor = torch.from_numpy(x) # conversion of numpy array to a pytorch tensor\n",
    "# reference: https://pytorch.org/tutorials/beginner/blitz/tensor_tutorial.html#converting-numpy-array-to-torch-tensor"
   ]
  },
  {
   "cell_type": "code",
   "execution_count": 161,
   "metadata": {},
   "outputs": [
    {
     "name": "stdout",
     "output_type": "stream",
     "text": [
      "torch.Size([2, 1, 2, 2])\n"
     ]
    }
   ],
   "source": [
    "print(x_tensor.shape) # verifying"
   ]
  },
  {
   "cell_type": "code",
   "execution_count": 167,
   "metadata": {},
   "outputs": [
    {
     "data": {
      "text/plain": [
       "tensor([[8.0000, 9.0000, 2.0000, 0.3000],\n",
       "        [8.0000, 9.0000, 2.0000, 0.3000]], dtype=torch.float64)"
      ]
     },
     "execution_count": 167,
     "metadata": {},
     "output_type": "execute_result"
    }
   ],
   "source": [
    "x_tensor.view(-1, 4) \n",
    "# -1 means: don't touch the first dimension (only if the second dimension satisfies the total elements)\n",
    "# if doesn't satisfy, then -1 is inferred from other dimensions"
   ]
  },
  {
   "cell_type": "code",
   "execution_count": 171,
   "metadata": {},
   "outputs": [
    {
     "data": {
      "text/plain": [
       "tensor([[8.0000, 9.0000],\n",
       "        [2.0000, 0.3000],\n",
       "        [8.0000, 9.0000],\n",
       "        [2.0000, 0.3000]], dtype=torch.float64)"
      ]
     },
     "execution_count": 171,
     "metadata": {},
     "output_type": "execute_result"
    }
   ],
   "source": [
    "x_tensor.view(-1, 2) # example: this should return (4, 2) tensor"
   ]
  },
  {
   "cell_type": "code",
   "execution_count": 174,
   "metadata": {},
   "outputs": [
    {
     "data": {
      "text/plain": [
       "tensor([[8.0000],\n",
       "        [9.0000],\n",
       "        [2.0000],\n",
       "        [0.3000],\n",
       "        [8.0000],\n",
       "        [9.0000],\n",
       "        [2.0000],\n",
       "        [0.3000]], dtype=torch.float64)"
      ]
     },
     "execution_count": 174,
     "metadata": {},
     "output_type": "execute_result"
    }
   ],
   "source": [
    "x_tensor.view(-1, 1) # example: this should return (8, 1) tensor"
   ]
  },
  {
   "cell_type": "markdown",
   "metadata": {},
   "source": [
    "## Training the Model"
   ]
  },
  {
   "cell_type": "code",
   "execution_count": 197,
   "metadata": {},
   "outputs": [],
   "source": [
    "def fit(epoch, optimizer, model, data_loader, volatile=False, phase='training'):\n",
    "    if(phase == 'training'):\n",
    "        model.train()\n",
    "    if(phase == 'evaluation'):\n",
    "        model.evaluate()\n",
    "        volatile=True #why?\n",
    "    \n",
    "    running_loss = 0.0\n",
    "    running_correct = 0\n",
    "    \n",
    "    for batch_idx, (data, target) in enumerate(data_loader):\n",
    "#         print(data)\n",
    "#         if data.is_cuda():\n",
    "#             data, target = data.cuda(), target.cuda()\n",
    "        data, target = Variable(data, volatile), Variable(target)\n",
    "        if phase == 'training':\n",
    "            optimizer.zero_grad()\n",
    "        output = model(data)\n",
    "        loss = F.nll_loss(output, target)\n",
    "        running_loss += F.nll_loss(output, target, size_average=False).data[0]\n",
    "        preds = output.data.max(dim=1, keepdim=True)[1]\n",
    "        running_correct += preds.eq(target.data.view_as(preds)).cpu().sum()\n",
    "        if phase == 'training':\n",
    "            loss.backward()\n",
    "            optimizer.step()\n",
    "    \n",
    "    loss = running_loss/len(data_loader.dataset)\n",
    "    accuracy = 100. * running_correct/len(data_loader.dataset)\n",
    "    print(\"Loss: {}, accuracy: {}\".format(loss, accuracy))\n",
    "    return loss, accuracy"
   ]
  },
  {
   "cell_type": "code",
   "execution_count": 198,
   "metadata": {},
   "outputs": [],
   "source": [
    "model = Net()\n",
    "optimizer = optim.SGD(model.parameters(), lr=0.01, momentum=0.5)"
   ]
  },
  {
   "cell_type": "code",
   "execution_count": 199,
   "metadata": {},
   "outputs": [
    {
     "data": {
      "text/plain": [
       "SGD (\n",
       "Parameter Group 0\n",
       "    dampening: 0\n",
       "    lr: 0.01\n",
       "    momentum: 0.5\n",
       "    nesterov: False\n",
       "    weight_decay: 0\n",
       ")"
      ]
     },
     "execution_count": 199,
     "metadata": {},
     "output_type": "execute_result"
    }
   ],
   "source": [
    "optimizer"
   ]
  },
  {
   "cell_type": "code",
   "execution_count": 200,
   "metadata": {},
   "outputs": [],
   "source": [
    "train_losses, train_accuracy = [], []\n",
    "val_losses, val_accuracy = [], []"
   ]
  },
  {
   "cell_type": "code",
   "execution_count": 204,
   "metadata": {},
   "outputs": [
    {
     "name": "stderr",
     "output_type": "stream",
     "text": [
      "/home/kushashwa/.local/lib/python3.6/site-packages/ipykernel_launcher.py:16: UserWarning: Implicit dimension choice for log_softmax has been deprecated. Change the call to include dim=X as an argument.\n",
      "  app.launch_new_instance()\n",
      "/usr/local/lib/python3.6/dist-packages/torch/nn/functional.py:52: UserWarning: size_average and reduce args will be deprecated, please use reduction='sum' instead.\n",
      "  warnings.warn(warning.format(ret))\n",
      "/home/kushashwa/.local/lib/python3.6/site-packages/ipykernel_launcher.py:20: UserWarning: invalid index of a 0-dim tensor. This will be an error in PyTorch 0.5. Use tensor.item() to convert a 0-dim tensor to a Python number\n"
     ]
    },
    {
     "name": "stdout",
     "output_type": "stream",
     "text": [
      "Loss: 0.1206219345331192, accuracy: 96\n",
      "Loss: 0.12402940541505814, accuracy: 96\n",
      "Loss: 0.11611782014369965, accuracy: 96\n",
      "Loss: 0.11210104078054428, accuracy: 96\n",
      "Loss: 0.11929728090763092, accuracy: 96\n",
      "Loss: 0.1225995272397995, accuracy: 96\n",
      "Loss: 0.11394266784191132, accuracy: 96\n",
      "Loss: 0.11298033595085144, accuracy: 96\n",
      "Loss: 0.11729313433170319, accuracy: 96\n",
      "Loss: 0.11354488879442215, accuracy: 96\n",
      "Loss: 0.115715891122818, accuracy: 96\n",
      "Loss: 0.11816882342100143, accuracy: 96\n",
      "Loss: 0.11266960203647614, accuracy: 96\n",
      "Loss: 0.11292938143014908, accuracy: 96\n",
      "Loss: 0.11479900777339935, accuracy: 96\n",
      "Loss: 0.12624315917491913, accuracy: 96\n",
      "Loss: 0.11431062966585159, accuracy: 96\n",
      "Loss: 0.1180247887969017, accuracy: 96\n",
      "Loss: 0.1105051189661026, accuracy: 96\n",
      "Loss: 0.12324003875255585, accuracy: 96\n",
      "Loss: 0.11057820171117783, accuracy: 96\n",
      "Loss: 0.10865706950426102, accuracy: 97\n",
      "Loss: 0.10824849456548691, accuracy: 96\n",
      "Loss: 0.11275696009397507, accuracy: 96\n",
      "Loss: 0.10923698544502258, accuracy: 96\n",
      "Loss: 0.11321546882390976, accuracy: 96\n",
      "Loss: 0.10587245225906372, accuracy: 96\n",
      "Loss: 0.11644107848405838, accuracy: 96\n",
      "Loss: 0.10572720319032669, accuracy: 96\n",
      "Loss: 0.10592672973871231, accuracy: 96\n",
      "Loss: 0.10624512284994125, accuracy: 96\n",
      "Loss: 0.12218598276376724, accuracy: 96\n",
      "Loss: 0.1034180149435997, accuracy: 96\n",
      "Loss: 0.114189513027668, accuracy: 96\n",
      "Loss: 0.10513007640838623, accuracy: 96\n",
      "Loss: 0.11694205552339554, accuracy: 96\n",
      "Loss: 0.10253959894180298, accuracy: 96\n",
      "Loss: 0.10903823375701904, accuracy: 96\n"
     ]
    }
   ],
   "source": [
    "for epoch in range(1, 20):\n",
    "    epoch_loss, epoch_accuracy = fit(epoch, optimizer, model, train_loader, volatile=False, phase='training')\n",
    "    val_epoch_loss , val_epoch_accuracy = fit(epoch,optimizer, model, test_loader, volatile=False, phase='validation')\n",
    "    train_losses.append(epoch_loss)\n",
    "    train_accuracy.append(epoch_accuracy)\n",
    "    val_losses.append(val_epoch_loss)\n",
    "    val_accuracy.append(val_epoch_accuracy)"
   ]
  },
  {
   "cell_type": "code",
   "execution_count": 205,
   "metadata": {},
   "outputs": [
    {
     "data": {
      "text/plain": [
       "<matplotlib.legend.Legend at 0x7fa4d4396940>"
      ]
     },
     "execution_count": 205,
     "metadata": {},
     "output_type": "execute_result"
    },
    {
     "data": {
      "image/png": "[encoded data removed]",
      "text/plain": [
       "<Figure size 432x288 with 1 Axes>"
      ]
     },
     "metadata": {},
     "output_type": "display_data"
    }
   ],
   "source": [
    "plt.plot(range(1,len(train_accuracy)+1),train_accuracy,'bo',label = 'train accuracy')\n",
    "plt.plot(range(1,len(val_accuracy)+1),val_accuracy,'r',label = 'val accuracy')\n",
    "plt.legend()"
   ]
  },
  {
   "cell_type": "markdown",
   "metadata": {},
   "source": [
    "## Transfer Learning\n",
    "\n",
    "* Reusing pre-trained algorithm on a dataset similar to what we are using. Training from scratch not required. \n",
    "* Freeze most of the layers and fine tune params for some of the layers only."
   ]
  },
  {
   "cell_type": "code",
   "execution_count": 3,
   "metadata": {},
   "outputs": [],
   "source": [
    "from torchvision import models"
   ]
  },
  {
   "cell_type": "code",
   "execution_count": 208,
   "metadata": {},
   "outputs": [
    {
     "name": "stderr",
     "output_type": "stream",
     "text": [
      "Downloading: \"https://download.pytorch.org/models/vgg16-397923af.pth\" to /home/kushashwa/.torch/models/vgg16-397923af.pth\n",
      "100%|██████████| 553433881/553433881 [00:18<00:00, 30166213.80it/s]\n"
     ]
    }
   ],
   "source": [
    "vgg = models.vgg16(pretrained=True) # load the pretrained model VGG16"
   ]
  },
  {
   "cell_type": "code",
   "execution_count": 210,
   "metadata": {},
   "outputs": [
    {
     "name": "stdout",
     "output_type": "stream",
     "text": [
      "VGG(\n",
      "  (features): Sequential(\n",
      "    (0): Conv2d(3, 64, kernel_size=(3, 3), stride=(1, 1), padding=(1, 1))\n",
      "    (1): ReLU(inplace)\n",
      "    (2): Conv2d(64, 64, kernel_size=(3, 3), stride=(1, 1), padding=(1, 1))\n",
      "    (3): ReLU(inplace)\n",
      "    (4): MaxPool2d(kernel_size=2, stride=2, padding=0, dilation=1, ceil_mode=False)\n",
      "    (5): Conv2d(64, 128, kernel_size=(3, 3), stride=(1, 1), padding=(1, 1))\n",
      "    (6): ReLU(inplace)\n",
      "    (7): Conv2d(128, 128, kernel_size=(3, 3), stride=(1, 1), padding=(1, 1))\n",
      "    (8): ReLU(inplace)\n",
      "    (9): MaxPool2d(kernel_size=2, stride=2, padding=0, dilation=1, ceil_mode=False)\n",
      "    (10): Conv2d(128, 256, kernel_size=(3, 3), stride=(1, 1), padding=(1, 1))\n",
      "    (11): ReLU(inplace)\n",
      "    (12): Conv2d(256, 256, kernel_size=(3, 3), stride=(1, 1), padding=(1, 1))\n",
      "    (13): ReLU(inplace)\n",
      "    (14): Conv2d(256, 256, kernel_size=(3, 3), stride=(1, 1), padding=(1, 1))\n",
      "    (15): ReLU(inplace)\n",
      "    (16): MaxPool2d(kernel_size=2, stride=2, padding=0, dilation=1, ceil_mode=False)\n",
      "    (17): Conv2d(256, 512, kernel_size=(3, 3), stride=(1, 1), padding=(1, 1))\n",
      "    (18): ReLU(inplace)\n",
      "    (19): Conv2d(512, 512, kernel_size=(3, 3), stride=(1, 1), padding=(1, 1))\n",
      "    (20): ReLU(inplace)\n",
      "    (21): Conv2d(512, 512, kernel_size=(3, 3), stride=(1, 1), padding=(1, 1))\n",
      "    (22): ReLU(inplace)\n",
      "    (23): MaxPool2d(kernel_size=2, stride=2, padding=0, dilation=1, ceil_mode=False)\n",
      "    (24): Conv2d(512, 512, kernel_size=(3, 3), stride=(1, 1), padding=(1, 1))\n",
      "    (25): ReLU(inplace)\n",
      "    (26): Conv2d(512, 512, kernel_size=(3, 3), stride=(1, 1), padding=(1, 1))\n",
      "    (27): ReLU(inplace)\n",
      "    (28): Conv2d(512, 512, kernel_size=(3, 3), stride=(1, 1), padding=(1, 1))\n",
      "    (29): ReLU(inplace)\n",
      "    (30): MaxPool2d(kernel_size=2, stride=2, padding=0, dilation=1, ceil_mode=False)\n",
      "  )\n",
      "  (classifier): Sequential(\n",
      "    (0): Linear(in_features=25088, out_features=4096, bias=True)\n",
      "    (1): ReLU(inplace)\n",
      "    (2): Dropout(p=0.5)\n",
      "    (3): Linear(in_features=4096, out_features=4096, bias=True)\n",
      "    (4): ReLU(inplace)\n",
      "    (5): Dropout(p=0.5)\n",
      "    (6): Linear(in_features=4096, out_features=1000, bias=True)\n",
      "  )\n",
      ")\n"
     ]
    }
   ],
   "source": [
    "# let's look at the VGG network\n",
    "print(vgg)"
   ]
  },
  {
   "cell_type": "markdown",
   "metadata": {},
   "source": [
    "In the above summary of VGG16 Model, there are 2 Sequential models:\n",
    "\n",
    "**1. Features:**\n",
    "    - Has the layers that we are going to freeze\n",
    "**2. Classifier:**\n",
    "    - Has the layers that we are going to learn."
   ]
  },
  {
   "cell_type": "code",
   "execution_count": 211,
   "metadata": {},
   "outputs": [],
   "source": [
    "# freeze the weights for features layers \n",
    "for param in vgg.features.parameters(): \n",
    "    param.requites_grad = False\n",
    "    # prevent optimizer from updating the weights"
   ]
  },
  {
   "cell_type": "code",
   "execution_count": 217,
   "metadata": {},
   "outputs": [],
   "source": [
    "# let's fine tune the classifier layers\n",
    "# for dogs and cats?\n",
    "vgg.classifier[6].out_features = 2"
   ]
  },
  {
   "cell_type": "code",
   "execution_count": 218,
   "metadata": {},
   "outputs": [],
   "source": [
    "optimizer = optim.SGD(vgg.classifier.parameters(), lr=0.001, momentum=0.5) \n",
    "# only pass classifier parameters for optimization"
   ]
  },
  {
   "cell_type": "markdown",
   "metadata": {},
   "source": [
    "**Quick Tips to improve accuracy**"
   ]
  },
  {
   "cell_type": "code",
   "execution_count": 229,
   "metadata": {},
   "outputs": [],
   "source": [
    "# changing dropout from 0.2 to 0.5\n",
    "for layer in vgg.classifier.children():\n",
    "    if(type(layer) == nn.modules.dropout.Dropout):\n",
    "        layer.p = 0.5"
   ]
  },
  {
   "cell_type": "code",
   "execution_count": 230,
   "metadata": {},
   "outputs": [],
   "source": [
    "# performing data augmentation to add more data: flipping, mirroring, rotating with small angles\n",
    "train_transform = transforms.Compose([transforms.Resize((224, 224)), \n",
    "                                     transforms.RandomHorizontalFlip(), \n",
    "                                     transforms.RandomRotation(0.2),\n",
    "                                     transforms.ToTensor(), \n",
    "                                     transforms.Normalize([0.485, 0.456, 0.406], [0.229, 0.224, 0.225])])"
   ]
  },
  {
   "cell_type": "markdown",
   "metadata": {},
   "source": [
    "## Visualizing Outputs from Intermediate Layers\n",
    "\n",
    "We can visualize outputs from Intermediate Layers, using PyTorch utility function: `register_forward_hook`"
   ]
  },
  {
   "cell_type": "code",
   "execution_count": 4,
   "metadata": {},
   "outputs": [],
   "source": [
    "vgg = models.vgg16(pretrained=True)"
   ]
  },
  {
   "cell_type": "code",
   "execution_count": 5,
   "metadata": {},
   "outputs": [],
   "source": [
    "class LayerActivations():\n",
    "    features=None\n",
    "    \n",
    "    def __init__(self,model,layer_num):\n",
    "        self.hook = model[layer_num].register_forward_hook(self.hook_fn)\n",
    "    \n",
    "    def hook_fn(self,module,input,output):\n",
    "        self.features = output.cpu().data.numpy()\n",
    "    \n",
    "    def remove(self):\n",
    "        self.hook.remove()"
   ]
  },
  {
   "cell_type": "code",
   "execution_count": 6,
   "metadata": {},
   "outputs": [],
   "source": [
    "conv_out = LayerActivations(vgg.features, 0)"
   ]
  },
  {
   "cell_type": "markdown",
   "metadata": {},
   "source": [
    "Let's create a sample image"
   ]
  },
  {
   "cell_type": "code",
   "execution_count": 52,
   "metadata": {},
   "outputs": [],
   "source": [
    "img = []\n",
    "for i in range(64):\n",
    "    img.append(np.random.randn(16, 16, 3))"
   ]
  },
  {
   "cell_type": "code",
   "execution_count": 53,
   "metadata": {},
   "outputs": [
    {
     "data": {
      "text/plain": [
       "(64, 16, 16, 3)"
      ]
     },
     "execution_count": 53,
     "metadata": {},
     "output_type": "execute_result"
    }
   ],
   "source": [
    "img = np.array(img)\n",
    "img.shape"
   ]
  },
  {
   "cell_type": "markdown",
   "metadata": {},
   "source": [
    "**This is the image created.**"
   ]
  },
  {
   "cell_type": "code",
   "execution_count": 54,
   "metadata": {},
   "outputs": [],
   "source": [
    "img = img.reshape((64, 16, 16, 3))"
   ]
  },
  {
   "cell_type": "code",
   "execution_count": 55,
   "metadata": {},
   "outputs": [
    {
     "name": "stderr",
     "output_type": "stream",
     "text": [
      "Clipping input data to the valid range for imshow with RGB data ([0..1] for floats or [0..255] for integers).\n"
     ]
    },
    {
     "data": {
      "text/plain": [
       "<matplotlib.image.AxesImage at 0x7f5cf7f02ba8>"
      ]
     },
     "execution_count": 55,
     "metadata": {},
     "output_type": "execute_result"
    },
    {
     "data": {
      "image/png": "[encoded data removed]",
      "text/plain": [
       "<Figure size 432x288 with 1 Axes>"
      ]
     },
     "metadata": {},
     "output_type": "display_data"
    }
   ],
   "source": [
    "plt.imshow(img[0])"
   ]
  },
  {
   "cell_type": "code",
   "execution_count": 56,
   "metadata": {},
   "outputs": [],
   "source": [
    "img = img.reshape((64, 3, 16, 16))"
   ]
  },
  {
   "cell_type": "code",
   "execution_count": 57,
   "metadata": {},
   "outputs": [],
   "source": [
    "img = torch.from_numpy(img).float()"
   ]
  },
  {
   "cell_type": "code",
   "execution_count": 58,
   "metadata": {},
   "outputs": [
    {
     "name": "stdout",
     "output_type": "stream",
     "text": [
      "torch.Size([64, 3, 16, 16])\n"
     ]
    }
   ],
   "source": [
    "print(img.shape)"
   ]
  },
  {
   "cell_type": "markdown",
   "metadata": {},
   "source": [
    "This wasn't working on my PC, lack of free RAM you know? ;) \n",
    "\n",
    "Thanks to Google Collabs :D Implemented it here: (on a random input image)\n",
    "\n",
    "https://colab.research.google.com/drive/12UH6rwswmxIuvIvvHT-wjB0LNVj-Txw9"
   ]
  },
  {
   "cell_type": "markdown",
   "metadata": {},
   "source": [
    "## Visualizing weights of Intermediate Layers"
   ]
  },
  {
   "cell_type": "code",
   "execution_count": 65,
   "metadata": {},
   "outputs": [],
   "source": [
    "cnn_weights = vgg.state_dict()['features.0.weight'].cpu()"
   ]
  },
  {
   "cell_type": "code",
   "execution_count": 68,
   "metadata": {},
   "outputs": [
    {
     "name": "stderr",
     "output_type": "stream",
     "text": [
      "Clipping input data to the valid range for imshow with RGB data ([0..1] for floats or [0..255] for integers).\n",
      "Clipping input data to the valid range for imshow with RGB data ([0..1] for floats or [0..255] for integers).\n",
      "Clipping input data to the valid range for imshow with RGB data ([0..1] for floats or [0..255] for integers).\n",
      "Clipping input data to the valid range for imshow with RGB data ([0..1] for floats or [0..255] for integers).\n",
      "Clipping input data to the valid range for imshow with RGB data ([0..1] for floats or [0..255] for integers).\n",
      "Clipping input data to the valid range for imshow with RGB data ([0..1] for floats or [0..255] for integers).\n",
      "Clipping input data to the valid range for imshow with RGB data ([0..1] for floats or [0..255] for integers).\n",
      "Clipping input data to the valid range for imshow with RGB data ([0..1] for floats or [0..255] for integers).\n",
      "Clipping input data to the valid range for imshow with RGB data ([0..1] for floats or [0..255] for integers).\n",
      "Clipping input data to the valid range for imshow with RGB data ([0..1] for floats or [0..255] for integers).\n",
      "Clipping input data to the valid range for imshow with RGB data ([0..1] for floats or [0..255] for integers).\n",
      "Clipping input data to the valid range for imshow with RGB data ([0..1] for floats or [0..255] for integers).\n",
      "Clipping input data to the valid range for imshow with RGB data ([0..1] for floats or [0..255] for integers).\n",
      "Clipping input data to the valid range for imshow with RGB data ([0..1] for floats or [0..255] for integers).\n",
      "Clipping input data to the valid range for imshow with RGB data ([0..1] for floats or [0..255] for integers).\n",
      "Clipping input data to the valid range for imshow with RGB data ([0..1] for floats or [0..255] for integers).\n",
      "Clipping input data to the valid range for imshow with RGB data ([0..1] for floats or [0..255] for integers).\n",
      "Clipping input data to the valid range for imshow with RGB data ([0..1] for floats or [0..255] for integers).\n",
      "Clipping input data to the valid range for imshow with RGB data ([0..1] for floats or [0..255] for integers).\n",
      "Clipping input data to the valid range for imshow with RGB data ([0..1] for floats or [0..255] for integers).\n",
      "Clipping input data to the valid range for imshow with RGB data ([0..1] for floats or [0..255] for integers).\n",
      "Clipping input data to the valid range for imshow with RGB data ([0..1] for floats or [0..255] for integers).\n",
      "Clipping input data to the valid range for imshow with RGB data ([0..1] for floats or [0..255] for integers).\n",
      "Clipping input data to the valid range for imshow with RGB data ([0..1] for floats or [0..255] for integers).\n",
      "Clipping input data to the valid range for imshow with RGB data ([0..1] for floats or [0..255] for integers).\n",
      "Clipping input data to the valid range for imshow with RGB data ([0..1] for floats or [0..255] for integers).\n",
      "Clipping input data to the valid range for imshow with RGB data ([0..1] for floats or [0..255] for integers).\n",
      "Clipping input data to the valid range for imshow with RGB data ([0..1] for floats or [0..255] for integers).\n",
      "Clipping input data to the valid range for imshow with RGB data ([0..1] for floats or [0..255] for integers).\n",
      "Clipping input data to the valid range for imshow with RGB data ([0..1] for floats or [0..255] for integers).\n"
     ]
    },
    {
     "data": {
      "image/png": "[encoded data removed]",
      "text/plain": [
       "<Figure size 2160x2160 with 30 Axes>"
      ]
     },
     "metadata": {},
     "output_type": "display_data"
    }
   ],
   "source": [
    "# directly taken from the book\n",
    "fig = plt.figure(figsize=(30,30))\n",
    "fig.subplots_adjust(left=0,right=1,bottom=0,top=0.8,hspace=0,wspace=0.2)\n",
    "for i in range(30):\n",
    "    ax = fig.add_subplot(12,6,i+1,xticks=[],yticks=[])\n",
    "    plt.imshow(cnn_weights[i])"
   ]
  }
 ],
 "metadata": {
  "kernelspec": {
   "display_name": "Python 3",
   "language": "python",
   "name": "python3"
  },
  "language_info": {
   "codemirror_mode": {
    "name": "ipython",
    "version": 3
   },
   "file_extension": ".py",
   "mimetype": "text/x-python",
   "name": "python",
   "nbconvert_exporter": "python",
   "pygments_lexer": "ipython3",
   "version": "3.6.7"
  },
  "latex_metadata": {
   "author": "Kushashwa Ravi Shrimali",
   "title": "Deep Learning in Computer Vision using PyTorch, Chapter 5"
  }
 },
 "nbformat": 4,
 "nbformat_minor": 2
}

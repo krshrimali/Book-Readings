{
 "cells": [
  {
   "cell_type": "code",
   "execution_count": 1,
   "metadata": {},
   "outputs": [],
   "source": [
    "import torch\n",
    "import numpy as np\n",
    "import glob"
   ]
  },
  {
   "cell_type": "code",
   "execution_count": 2,
   "metadata": {},
   "outputs": [],
   "source": [
    "import os"
   ]
  },
  {
   "cell_type": "code",
   "execution_count": 3,
   "metadata": {},
   "outputs": [],
   "source": [
    "path = \"/home/kushashwa/Pictures/\"\n",
    "files = glob.glob(os.path.join(path, '[k | K]*[.jpg | .png]'))"
   ]
  },
  {
   "cell_type": "code",
   "execution_count": 4,
   "metadata": {},
   "outputs": [
    {
     "data": {
      "text/plain": [
       "['/home/kushashwa/Pictures/kush_best_1.jpg',\n",
       " '/home/kushashwa/Pictures/krutika.jpeg',\n",
       " '/home/kushashwa/Pictures/Krutika.png',\n",
       " '/home/kushashwa/Pictures/kush_contours.png',\n",
       " '/home/kushashwa/Pictures/Krutika.jpeg',\n",
       " '/home/kushashwa/Pictures/Kushashwa.jpg',\n",
       " '/home/kushashwa/Pictures/krutika.png',\n",
       " '/home/kushashwa/Pictures/kush.png']"
      ]
     },
     "execution_count": 4,
     "metadata": {},
     "output_type": "execute_result"
    }
   ],
   "source": [
    "files"
   ]
  },
  {
   "cell_type": "code",
   "execution_count": 5,
   "metadata": {},
   "outputs": [],
   "source": [
    "shuffle = np.random.permutation(files)"
   ]
  },
  {
   "cell_type": "code",
   "execution_count": 6,
   "metadata": {},
   "outputs": [
    {
     "data": {
      "text/plain": [
       "array(['/home/kushashwa/Pictures/Krutika.png',\n",
       "       '/home/kushashwa/Pictures/Krutika.jpeg',\n",
       "       '/home/kushashwa/Pictures/kush.png',\n",
       "       '/home/kushashwa/Pictures/kush_best_1.jpg',\n",
       "       '/home/kushashwa/Pictures/Kushashwa.jpg',\n",
       "       '/home/kushashwa/Pictures/krutika.jpeg',\n",
       "       '/home/kushashwa/Pictures/kush_contours.png',\n",
       "       '/home/kushashwa/Pictures/krutika.png'], dtype='<U42')"
      ]
     },
     "execution_count": 6,
     "metadata": {},
     "output_type": "execute_result"
    }
   ],
   "source": [
    "shuffle"
   ]
  },
  {
   "cell_type": "code",
   "execution_count": 15,
   "metadata": {},
   "outputs": [
    {
     "name": "stdout",
     "output_type": "stream",
     "text": [
      "/home/kushashwa/Pictures/Krutika.png Krutika\n",
      "/home/kushashwa/Pictures/Krutika.jpeg Krutika\n"
     ]
    }
   ],
   "source": [
    "for t in shuffle[:2]:\n",
    "    folder = t.split('/')[-1].split('.')[0]\n",
    "    print(t, folder)"
   ]
  },
  {
   "cell_type": "markdown",
   "metadata": {},
   "source": [
    "## PyTorch Pre-processing Image Datasets"
   ]
  },
  {
   "cell_type": "markdown",
   "metadata": {},
   "source": [
    "1. Resize all the images to the same size. Most of the deep learning architectures\n",
    "expect the images to be of the same size.\n",
    "2. Normalize the dataset with the mean and standard deviation of the dataset.\n",
    "3. Convert the image dataset to a PyTorch tensor."
   ]
  },
  {
   "cell_type": "code",
   "execution_count": 16,
   "metadata": {},
   "outputs": [],
   "source": [
    "from torchvision.datasets import ImageFolder"
   ]
  },
  {
   "cell_type": "code",
   "execution_count": 17,
   "metadata": {},
   "outputs": [],
   "source": [
    "from torchvision import transforms"
   ]
  },
  {
   "cell_type": "code",
   "execution_count": null,
   "metadata": {},
   "outputs": [],
   "source": [
    "simple_transform = transforms.Compose([transforms.Scale((224, 224)), \n",
    "                   transforms.ToTensor(),\n",
    "                   transforms.Normalize([0.485, 0.456,\n",
    "                                        0.406], [0.229, \\\n",
    "                                                0.224, 0.225])])\n",
    "train = ImageFolder('.', simple_transform)\n",
    "valid = ImageFolder('.', simple_transform)"
   ]
  }
 ],
 "metadata": {
  "kernelspec": {
   "display_name": "Python 3",
   "language": "python",
   "name": "python3"
  },
  "language_info": {
   "codemirror_mode": {
    "name": "ipython",
    "version": 3
   },
   "file_extension": ".py",
   "mimetype": "text/x-python",
   "name": "python",
   "nbconvert_exporter": "python",
   "pygments_lexer": "ipython3",
   "version": "3.6.7"
  }
 },
 "nbformat": 4,
 "nbformat_minor": 2
}
